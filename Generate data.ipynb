{
 "cells": [
  {
   "cell_type": "markdown",
   "metadata": {},
   "source": [
    "Генерация данных из двух файлов с данными дампа ДБ в формате SQL.\n",
    "\n",
    "* flats.txt - содержит информацию о квартирах\n",
    "* pairs.txt - содержит инфу об одинаковых объявлениях\n",
    "\n",
    "\n",
    "Формат данных flats.txt:\n",
    "\n",
    "1. index\n",
    "2. offer_id, \n",
    "3. description, \n",
    "4. geo, \n",
    "5. building, \n",
    "6. roomscount, \n",
    "7. floornumber, \n",
    "8. category, \n",
    "9. totalarea, \n",
    "10. userid, \n",
    "11. publisheduserid, \n",
    "12. flattype, \n",
    "13. bargainterms\n",
    "\n",
    "Формат данных pairs.txt:\n",
    "\n",
    "1. index, \n",
    "2. offer_id1, \n",
    "3. offer_id2, \n",
    "4. is_test, \n",
    "5. resolution\n"
   ]
  },
  {
   "cell_type": "code",
   "execution_count": 1,
   "metadata": {},
   "outputs": [],
   "source": [
    "with open('flats.txt', 'rt', encoding='utf-8-sig') as f:\n",
    "    lines = f.readlines()"
   ]
  },
  {
   "cell_type": "markdown",
   "metadata": {},
   "source": [
    "Вывод данных для анализа"
   ]
  },
  {
   "cell_type": "code",
   "execution_count": 2,
   "metadata": {},
   "outputs": [
    {
     "data": {
      "text/plain": [
       "['0',\n",
       " '3dddd44ec9b2d96c12d9929a1baf060a',\n",
       " 'Мы работаем, и у нас безопасно!\\\\n- Заселяем клиентов круглосуточно и дистанционно, без встречи с сотрудником\\\\n- Принимаем оплату бесконтактным способом\\\\n- Дезинфицируем все поверхности в квартире перед заселением и после выезда\\\\n- Останавливаясь у нас, Вы никогда не будете обмануты или введены в заблуждение \\\\n- Фото соответствует действительности \\\\n- У нас широкий выбор апартаментов. Все квартиры имеют удобное расположение, находятся рядом с остановками, магазинами и тп.\\\\n- Мы предоставляем надежные отчетные документы (возможно без проживания)\\\\n- Работаем с юридическими лицами. \\\\n\\\\nУютная, теплая и чистая двухкомнатная квартира в самом центре Втузгородка по ул. Мира 37 недалеко от центра города, ТРЦ Комсомолл ждет своих гостей на СУТКИ, ЧАСЫ, НЕДЕЛИ, МЕСЯЦ !\\\\n\\\\nРядом: УрФУ Мира 19, Институт МЧС Мира 22, Юридическая Академия Комсомольская 21, Суворовское училище, Дендропарк, ЦК \"Урал\" Студенческая 3, Гуманитарный университет Студенческая 19, ФГУП Уральский электромеханический завод Студенческая 9, до аквапарка Лимпопо 10 минут по объездной дороге, удобная транспортная развязка во все районы города, аэропорт Кольцово в 20 минутах езды.\\\\n\\\\nАренда квартиры посуточно у нас предполагает наличие всего, что сделает Ваш отдых максимально комфортным, в том числе бесплатный интернет, телевидение, чистое постельное белье и полотенца для каждого гостя.\\\\n\\\\nСтоимость и оплата: \\\\n- аренда на сутки 1790 рублей\\\\n- возможна аренда на часы\\\\n- спальных мест 2+1+1 ( две односпальные кровати 90*200, двуспальный диван )\\\\n- бесплатная парковка рядом с домом и охраняемая платная Мира 39, Гагарина 30б \\\\n- оплата производится при заселении за весь срок проживания\\\\n- страховой залог 2000 рублей ( возвратный )\\\\n- расчетный час - 12:00\\\\n\\\\nЕсли Вам нужна квартира на сутки, неделю или час  можете смело обращаться, поддержка 24/7 по любому вопросу WhatsApp/Viber/Telegram. Звоните в любое время!',\n",
       " \"{'countryId': 138, 'undergrounds': [], 'calculatedUndergrounds': [], 'coordinates': {'lat': 56.83456, 'lng': 60.654356}, 'highways': [], 'railways': [], 'userInput': 'Россия, Свердловская область, Екатеринбург, микрорайон Втузгородок, улица Мира, 37', 'address': [{'name': 'Свердловская', 'id': 4612, 'locationTypeId': 2, 'fullName': 'Свердловская область', 'type': 'location', 'shortName': 'Свердловская область', 'isFormingAddress': True}, {'name': 'Екатеринбург', 'id': 4743, 'locationTypeId': 1, 'fullName': 'Екатеринбург', 'type': 'location', 'shortName': 'Екатеринбург', 'isFormingAddress': True}, {'name': 'Втузгородок', 'id': 199906, 'locationTypeId': 174, 'fullName': 'Втузгородок мкр', 'type': 'location', 'shortName': 'Втузгородок микрорайон', 'isFormingAddress': True}, {'name': 'Мира', 'id': 784162, 'fullName': 'улица Мира', 'type': 'street', 'shortName': 'ул. Мира', 'isFormingAddress': True}, {'name': '37', 'id': 1883824, 'fullName': '37', 'type': 'house', 'shortName': '37', 'isFormingAddress': True}], 'district': [{'locationId': 4743, 'id': 289, 'name': 'Кировский', 'type': 'raion'}, {'parentId': 289, 'locationId': 4743, 'id': 1470, 'name': 'Втузгородок', 'type': 'mikroraion'}], 'locationPath': {'countryId': 138, 'childToParent': [199906, 4743, 4612]}}\",\n",
       " \"{'materialType': 'block', 'parking': {'type': 'ground'}, 'floorsCount': 5, 'cranageTypes': [], 'extinguishingSystemTypes': [], 'liftTypes': [], 'infrastructure': {}, 'totalArea': 45.0, 'openingHours': {}, 'deadline': {}}\",\n",
       " '2',\n",
       " '2',\n",
       " 'dailyFlatRent',\n",
       " '45',\n",
       " 'bd8a8031d43e3eb578f47787ddd246c5',\n",
       " 'bd8a8031d43e3eb578f47787ddd246c5',\n",
       " 'rooms',\n",
       " \"{'price': 1790.0, 'currency': 'rur', 'deposit': 2000, 'bargainAllowed': False, 'priceType': 'all', 'includedOptions': []}\\n\"]"
      ]
     },
     "execution_count": 2,
     "metadata": {},
     "output_type": "execute_result"
    }
   ],
   "source": [
    "lines[0].split('\\t')"
   ]
  },
  {
   "cell_type": "markdown",
   "metadata": {},
   "source": [
    "Генерируем данные из строки. В данном случае игнорируем некоторые данные, так как время ограничено."
   ]
  },
  {
   "cell_type": "code",
   "execution_count": 13,
   "metadata": {
    "scrolled": true
   },
   "outputs": [
    {
     "name": "stdout",
     "output_type": "stream",
     "text": [
      "19049 217\n"
     ]
    }
   ],
   "source": [
    "import json\n",
    "import string\n",
    "\n",
    "data = {}\n",
    "fail_count = 0 \n",
    "success_count = 0\n",
    "for il, l in enumerate(lines):\n",
    "    try:\n",
    "        l = l.replace(\"\\'\", \"\\\"\").replace(\"True\", \"\\\"True\\\"\").replace(\"False\", \"\\\"False\\\"\")\n",
    "        t = l.split('\\t')\n",
    "        s = t[2].replace(\"\\\\n\", \"\")\n",
    "        s = s.lower()\n",
    "        s = s.translate(str.maketrans('', '', string.punctuation))\n",
    "        data[t[1]] = {\n",
    "            \"description\": s,\n",
    "            \"geo\": json.loads(t[3].replace('\\n', \"\")),\n",
    "            \"building\": json.loads(t[4].replace('\\n', \"\")),\n",
    "            \"roomscount\": t[5],\n",
    "            \"floornumber\": t[6],\n",
    "            \"category\": t[7],\n",
    "            \"totalarea\": t[8], \n",
    "            \"userid\": t[9], \n",
    "            \"publisheduserid\":  t[10], \n",
    "            \"flattype\": t[11],\n",
    "            \"bargainterms\": json.loads(t[12].replace('\\n', \"\"))\n",
    "        }\n",
    "        success_count += 1\n",
    "    except Exception as e:\n",
    "        fail_count += 1\n",
    "        \n",
    "print(success_count, fail_count)"
   ]
  },
  {
   "cell_type": "code",
   "execution_count": 14,
   "metadata": {},
   "outputs": [],
   "source": [
    "with open('pairs.txt', 'rt', encoding='utf-8-sig') as f:\n",
    "    lines = f.readlines()\n",
    "pair = [l.split('\\t') for l in lines]"
   ]
  },
  {
   "cell_type": "markdown",
   "metadata": {},
   "source": [
    "После анализа данных было решено в начале выбрать небольшое количество параметром которые показались самыми важными."
   ]
  },
  {
   "cell_type": "code",
   "execution_count": 16,
   "metadata": {},
   "outputs": [],
   "source": [
    "flat = ['description', 'roomscount', 'floornumber', 'category', 'totalarea', 'flattype', 'userid', 'publisheduserid']\n",
    "geo = ['userInput']\n",
    "building = ['floorsCount', 'totalArea']\n",
    "bargainterms = ['price']"
   ]
  },
  {
   "cell_type": "code",
   "execution_count": 17,
   "metadata": {},
   "outputs": [],
   "source": [
    "new_data = {}\n",
    "for k in data:\n",
    "    row = [data[k][f] for f in flat]\n",
    "    row.append(data[k]['geo']['userInput'].lower().translate(str.maketrans('', '', string.punctuation)))\n",
    "    row.append(data[k]['building']['floorsCount'] if 'floorsCount' in data[k]['building'] else 0)\n",
    "    row.append(data[k]['building']['totalArea'] if 'totalArea' in data[k]['building'] else 0)\n",
    "    row.append(data[k]['bargainterms']['price'])\n",
    "    new_data[k] = row"
   ]
  },
  {
   "cell_type": "markdown",
   "metadata": {},
   "source": [
    "И теперь удалим те пары, для которых нет квартир."
   ]
  },
  {
   "cell_type": "code",
   "execution_count": 18,
   "metadata": {},
   "outputs": [],
   "source": [
    "all_keys = list(new_data.keys())"
   ]
  },
  {
   "cell_type": "code",
   "execution_count": 19,
   "metadata": {},
   "outputs": [],
   "source": [
    "X_pairs = []\n",
    "y = []"
   ]
  },
  {
   "cell_type": "code",
   "execution_count": 20,
   "metadata": {},
   "outputs": [],
   "source": [
    "all_pairs = [p[1] + p[2] for p in pair ] + [p[2] + p[1] for p in pair]"
   ]
  },
  {
   "cell_type": "code",
   "execution_count": 21,
   "metadata": {},
   "outputs": [],
   "source": [
    "for p in pair:\n",
    "    if p[1] in new_data and p[2] in new_data:\n",
    "        X_pairs.append([ new_data[p[1]], new_data[p[2]] ])\n",
    "        y.append(1)"
   ]
  },
  {
   "cell_type": "markdown",
   "metadata": {},
   "source": [
    "У нас есть позитивные примеры. Теперь нужно сгенерировать негативные. В данном случае сделаем в пять раз больше негативных. Понятно, что в реальности негативных примеров будет в сотни раз больше, но для первой итерации этого должно быть достаточно."
   ]
  },
  {
   "cell_type": "code",
   "execution_count": 22,
   "metadata": {},
   "outputs": [],
   "source": [
    "import random\n",
    "\n",
    "generate = 5\n",
    "\n",
    "for k in all_keys:\n",
    "    for _ in range(generate):\n",
    "        candidate = random.choice(all_keys)\n",
    "        if candidate != k and k+candidate not in all_pairs:\n",
    "            X_pairs.append([new_data[k], new_data[candidate]])\n",
    "            y.append(0)"
   ]
  },
  {
   "cell_type": "markdown",
   "metadata": {},
   "source": [
    "Сохраняем данные."
   ]
  },
  {
   "cell_type": "code",
   "execution_count": 23,
   "metadata": {},
   "outputs": [],
   "source": [
    "import pickle\n",
    "\n",
    "with open(\"data_5.pkl\", 'wb') as f:\n",
    "    pickle.dump((X_pairs, y), f)"
   ]
  },
  {
   "cell_type": "code",
   "execution_count": null,
   "metadata": {
    "collapsed": true
   },
   "outputs": [],
   "source": []
  }
 ],
 "metadata": {
  "kernelspec": {
   "display_name": "Python 3",
   "language": "python",
   "name": "python3"
  },
  "language_info": {
   "codemirror_mode": {
    "name": "ipython",
    "version": 3
   },
   "file_extension": ".py",
   "mimetype": "text/x-python",
   "name": "python",
   "nbconvert_exporter": "python",
   "pygments_lexer": "ipython3",
   "version": "3.7.7"
  }
 },
 "nbformat": 4,
 "nbformat_minor": 2
}
